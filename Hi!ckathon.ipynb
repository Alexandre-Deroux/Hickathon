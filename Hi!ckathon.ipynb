{
 "cells": [
  {
   "cell_type": "markdown",
   "metadata": {},
   "source": [
    "# Import libraries"
   ]
  },
  {
   "cell_type": "code",
   "execution_count": 1,
   "metadata": {},
   "outputs": [],
   "source": [
    "from sklearn.preprocessing import MultiLabelBinarizer\n",
    "import numpy as np\n",
    "import pandas as pd\n",
    "import ast\n",
    "import xgboost as xgb\n",
    "from sklearn.model_selection import train_test_split\n",
    "from sklearn.metrics import accuracy_score, f1_score"
   ]
  },
  {
   "attachments": {},
   "cell_type": "markdown",
   "metadata": {},
   "source": [
    "# Import data"
   ]
  },
  {
   "cell_type": "code",
   "execution_count": 2,
   "metadata": {},
   "outputs": [],
   "source": [
    "x_y_train = pd.read_csv(\"x_y_train.csv\", low_memory=False, index_col=\"row_index\")\n",
    "\n",
    "x_test = pd.read_csv(\"x_test.csv\", low_memory=False, index_col=\"row_index\")"
   ]
  },
  {
   "cell_type": "markdown",
   "metadata": {},
   "source": [
    "# Preprocess train"
   ]
  },
  {
   "attachments": {},
   "cell_type": "markdown",
   "metadata": {},
   "source": [
    "## Piezo qualification:"
   ]
  },
  {
   "attachments": {},
   "cell_type": "markdown",
   "metadata": {},
   "source": [
    "We only keep the rows where the measure is qualified as \"Correct\" or not yet qualified:"
   ]
  },
  {
   "cell_type": "code",
   "execution_count": 3,
   "metadata": {},
   "outputs": [
    {
     "data": {
      "text/plain": [
       "piezo_qualification\n",
       "Correcte        2718869\n",
       "Non qualifié      93199\n",
       "Incorrecte         9462\n",
       "Incertaine         8786\n",
       "Name: count, dtype: int64"
      ]
     },
     "execution_count": 3,
     "metadata": {},
     "output_type": "execute_result"
    }
   ],
   "source": [
    "x_y_train[\"piezo_qualification\"].value_counts()"
   ]
  },
  {
   "cell_type": "code",
   "execution_count": 4,
   "metadata": {},
   "outputs": [],
   "source": [
    "x_y_train = x_y_train[x_y_train[\"piezo_qualification\"].isin([\"Correcte\", \"Non qualifié\"])].drop(columns=[\"piezo_qualification\"])"
   ]
  },
  {
   "attachments": {},
   "cell_type": "markdown",
   "metadata": {},
   "source": [
    "## Irrelevant columns:"
   ]
  },
  {
   "cell_type": "code",
   "execution_count": 5,
   "metadata": {},
   "outputs": [],
   "source": [
    "columns_to_drop = [\n",
    "    \"piezo_station_department_code\",\n",
    "    \"piezo_station_update_date\",\n",
    "    \"piezo_station_department_name\",\n",
    "    \"piezo_station_commune_code_insee\",\n",
    "    \"piezo_station_pe_label\",\n",
    "    \"piezo_station_bss_code\",\n",
    "    \"piezo_station_commune_name\",\n",
    "    \"piezo_station_bss_id\",\n",
    "    \"piezo_bss_code\",\n",
    "    \"piezo_obtention_mode\",\n",
    "    \"piezo_continuity_code\",\n",
    "    \"piezo_continuity_name\",\n",
    "    \"piezo_producer_code\",\n",
    "    \"piezo_producer_name\",\n",
    "    \"piezo_measure_nature_code\",\n",
    "    \"meteo_id\",\n",
    "    \"meteo_name\",\n",
    "    \"meteo_date\",\n",
    "    \"meteo_DRR\",\n",
    "    \"meteo_temperature_avg_threshold\",\n",
    "    \"meteo_temperature_min_50cm\",\n",
    "    \"meteo_pressure_avg\",\n",
    "    \"meteo_pression_maxi\",\n",
    "    \"meteo_wind_speed_avg_2m\",\n",
    "    \"meteo_wind_max_2m\",\n",
    "    \"meteo_wind_direction_max_inst_2m\",\n",
    "    \"meteo_time_wind_max_2m\",\n",
    "    \"meteo_wetting_duration\",\n",
    "    \"meteo_sunshine_duration\",\n",
    "    \"meteo_longitude\",\n",
    "    \"meteo_latitude\",\n",
    "    \"meteo_radiation\",\n",
    "    \"meteo_radiation_direct\",\n",
    "    \"meteo_sunshine_%\",\n",
    "    \"meteo_radiation_IR\",\n",
    "    \"meteo_radiation_UV_max\",\n",
    "    \"meteo_cloudiness\",\n",
    "    \"meteo_cloudiness_height\",\n",
    "    \"meteo_if_snow\",\n",
    "    \"meteo_if_fog\",\n",
    "    \"meteo_if_thunderstorm\",\n",
    "    \"meteo_if_sleet\",\n",
    "    \"meteo_if_hail\",\n",
    "    \"meteo_if_dew\",\n",
    "    \"meteo_if_black_ice\",\n",
    "    \"meteo_if_snow_ground\",\n",
    "    \"meteo_if_frost\",\n",
    "    \"meteo_if_smoke\",\n",
    "    \"meteo_if_mist\",\n",
    "    \"meteo_if_lightning\",\n",
    "    \"meteo_evapotranspiration_Monteith\",\n",
    "    \"meteo_radiation_UV\",\n",
    "    \"meteo_snow_height\",\n",
    "    \"meteo_snow_thickness_max\",\n",
    "    \"meteo_snow_thickness_6h\",\n",
    "    \"hydro_station_code\",\n",
    "    \"hydro_observation_date_elab\",\n",
    "    \"hydro_status_label\",\n",
    "    \"hydro_method_label\",\n",
    "    \"hydro_qualification_label\",\n",
    "    \"hydro_longitude\",\n",
    "    \"hydro_latitude\",\n",
    "    \"hydro_hydro_quantity_elab\",\n",
    "    \"prelev_structure_code_0\",\n",
    "    \"prelev_volume_obtention_mode_label_0\",\n",
    "    \"prelev_commune_code_insee_0\",\n",
    "    \"prelev_structure_code_1\",\n",
    "    \"prelev_volume_obtention_mode_label_1\",\n",
    "    \"prelev_commune_code_insee_1\",\n",
    "    \"prelev_structure_code_2\",\n",
    "    \"prelev_volume_obtention_mode_label_2\",\n",
    "    \"prelev_commune_code_insee_2\"\n",
    "]"
   ]
  },
  {
   "cell_type": "code",
   "execution_count": 6,
   "metadata": {},
   "outputs": [],
   "source": [
    "x_y_train = x_y_train.drop(columns=columns_to_drop)"
   ]
  },
  {
   "attachments": {},
   "cell_type": "markdown",
   "metadata": {},
   "source": [
    "## Date:"
   ]
  },
  {
   "attachments": {},
   "cell_type": "markdown",
   "metadata": {},
   "source": [
    "For the date, we apply cyclical encoding:"
   ]
  },
  {
   "cell_type": "code",
   "execution_count": 7,
   "metadata": {},
   "outputs": [
    {
     "data": {
      "text/plain": [
       "row_index\n",
       "0          2020-01-01\n",
       "1          2020-01-01\n",
       "2          2020-01-01\n",
       "3          2020-01-01\n",
       "4          2020-01-01\n",
       "              ...    \n",
       "3294080    2023-05-31\n",
       "3294081    2023-05-31\n",
       "3294082    2023-05-31\n",
       "3294083    2023-05-31\n",
       "3294084    2023-05-31\n",
       "Name: piezo_measurement_date, Length: 2812068, dtype: object"
      ]
     },
     "execution_count": 7,
     "metadata": {},
     "output_type": "execute_result"
    }
   ],
   "source": [
    "x_y_train[\"piezo_measurement_date\"]"
   ]
  },
  {
   "cell_type": "code",
   "execution_count": 8,
   "metadata": {},
   "outputs": [],
   "source": [
    "x_y_train[\"piezo_measurement_date\"] = pd.to_datetime(x_y_train[\"piezo_measurement_date\"])\n",
    "x_y_train[\"day_of_year\"] = x_y_train[\"piezo_measurement_date\"].dt.dayofyear\n",
    "x_y_train[\"day_sin\"] = np.sin(2 * np.pi * x_y_train[\"day_of_year\"] / 365)\n",
    "x_y_train[\"day_cos\"] = np.cos(2 * np.pi * x_y_train[\"day_of_year\"] / 365)\n",
    "x_y_train[\"month\"] = x_y_train[\"piezo_measurement_date\"].dt.month\n",
    "x_y_train[\"year\"] = x_y_train[\"piezo_measurement_date\"].dt.year"
   ]
  },
  {
   "cell_type": "code",
   "execution_count": 9,
   "metadata": {},
   "outputs": [],
   "source": [
    "x_y_train = x_y_train[x_y_train[\"piezo_measurement_date\"].dt.month.between(3, 10)]"
   ]
  },
  {
   "cell_type": "code",
   "execution_count": 10,
   "metadata": {},
   "outputs": [],
   "source": [
    "x_y_train = x_y_train.drop(columns=[\"piezo_measurement_date\", \"day_of_year\"])"
   ]
  },
  {
   "attachments": {},
   "cell_type": "markdown",
   "metadata": {},
   "source": [
    "## BDLISA code:"
   ]
  },
  {
   "cell_type": "code",
   "execution_count": 11,
   "metadata": {},
   "outputs": [],
   "source": [
    "eh_code_prefix_to_category = {\n",
    "    \"101\": \"Sands\", \"104\": \"Sands\", \"107\": \"Limestones\", \"110\": \"Marls\", \n",
    "    \"113\": \"Limestones\", \"117\": \"Other\", \"119\": \"Other\", \"121\": \"Other\", \n",
    "    \"123\": \"Marls\", \"125\": \"Marls\", \"127\": \"Sands\", \"131\": \"Limestones\", \n",
    "    \"133\": \"Marls\", \"135\": \"Limestones\", \"137\": \"Marls\", \"139\": \"Limestones\", \n",
    "    \"141\": \"Marls\", \"143\": \"Gravel\", \"144\": \"Sands\", \"145\": \"Other\", \n",
    "    \"147\": \"Gravel\", \"149\": \"Limestones\", \"151\": \"Massif\", \"153\": \"Massif\", \n",
    "    \"154\": \"Massif\", \"155\": \"Massif\", \"156\": \"Massif\", \"158\": \"Massif\", \n",
    "    \"159\": \"Massif\", \"160\": \"Massif\", \"161\": \"Sands\", \"163\": \"Massif\", \n",
    "    \"164\": \"Other\", \"165\": \"Other\", \"167\": \"Other\", \"169\": \"Massif\", \n",
    "    \"170\": \"Massif\", \"171\": \"Massif\", \"173\": \"Other\", \"174\": \"Basement\", \n",
    "    \"175\": \"Basement\", \"177\": \"Basement\", \"179\": \"Basement\", \"181\": \"Basement\", \n",
    "    \"183\": \"Basement\", \"185\": \"Basement\", \"186\": \"Basement\", \"187\": \"Basement\", \n",
    "    \"189\": \"Other\", \"191\": \"Other\", \"193\": \"Other\", \"195\": \"Other\", \n",
    "    \"197\": \"Other\", \"199\": \"Other\", \"201\": \"Basement\", \"203\": \"Basement\", \n",
    "    \"205\": \"Basement\", \"206\": \"Basement\", \"207\": \"Basement\", \"208\": \"Basement\", \n",
    "    \"211\": \"Other\", \"221\": \"Alluvions\", \"222\": \"Alluvions\", \"223\": \"Other\", \n",
    "    \"225\": \"Paleogeological Epochs\", \"226\": \"Gravel\", \"227\": \"Marls\", \n",
    "    \"230\": \"Gravel\", \"231\": \"Basement\", \"233\": \"Volcanic\", \"306\": \"Gravel\", \n",
    "    \"308\": \"Sands\", \"312\": \"Sands\", \"316\": \"Sands\", \"318\": \"Paleogeological Epochs\", \n",
    "    \"320\": \"Limestones\", \"322\": \"Paleogeological Epochs\", \"324\": \"Limestones\", \n",
    "    \"326\": \"Marls\", \"328\": \"Marls\", \"330\": \"Marls\", \"332\": \"Massif\", \n",
    "    \"334\": \"Gravel\", \"338\": \"Other\", \"340\": \"Marls\", \"342\": \"Other\", \n",
    "    \"344\": \"Limestones\", \"346\": \"Marls\", \"348\": \"Limestones\", \"350\": \"Gravel\", \n",
    "    \"352\": \"Limestones\", \"356\": \"Marls\", \"358\": \"Limestones\", \"359\": \"Limestones\", \n",
    "    \"360\": \"Marls\", \"362\": \"Limestones\", \"364\": \"Geological Epochs\", \"366\": \"Gravel\", \n",
    "    \"368\": \"Gravel\", \"370\": \"Basement\", \"372\": \"Basement\", \"374\": \"Basement\", \n",
    "    \"400\": \"Limestones\", \"402\": \"Limestones\", \"404\": \"Massif\", \"502\": \"Other\", \n",
    "    \"505\": \"Other\", \"507\": \"Other\", \"509\": \"Paleogeological Epochs\", \"513\": \"Limestones\", \n",
    "    \"515\": \"Limestones\", \"516\": \"Other\", \"517\": \"Limestones\", \"519\": \"Marls\", \n",
    "    \"521\": \"Other\", \"523\": \"Limestones\", \"525\": \"Other\", \"527\": \"Basement\", \n",
    "    \"529\": \"Paleogeological Epochs\", \"531\": \"Limestones\", \"533\": \"Limestones\", \n",
    "    \"534\": \"Limestones\", \"548\": \"Marls\", \"561\": \"Other\", \"563\": \"Other\", \n",
    "    \"565\": \"Limestones\", \"567\": \"Massif\", \"569\": \"Limestones\", \"571\": \"Limestones\", \n",
    "    \"573\": \"Geological Epochs\", \"577\": \"Marls\", \"581\": \"Massif\", \"583\": \"Marls\", \n",
    "    \"585\": \"Marls\", \"600\": \"Paleogeological Epochs\", \"602\": \"Basement\", \n",
    "    \"604\": \"Basement\", \"621\": \"Limestones\", \"631\": \"Limestones\", \"643\": \"Marls\", \n",
    "    \"647\": \"Alluvions\", \"651\": \"Limestones\", \"657\": \"Other\", \"671\": \"Alluvions\", \n",
    "    \"679\": \"Marls\", \"681\": \"Marls\", \"691\": \"Basement\", \"693\": \"Basement\", \n",
    "    \"699\": \"Basement\", \"710\": \"Alluvions\", \"712\": \"Alluvions\", \"714\": \"Alluvions\", \n",
    "    \"716\": \"Alluvions\", \"718\": \"Alluvions\", \"719\": \"Alluvions\", \"720\": \"Alluvions\", \n",
    "    \"901\": \"Basement\", \"902\": \"Sands\", \"910\": \"Alluvions\", \"912\": \"Alluvions\", \n",
    "    \"914\": \"Alluvions\", \"916\": \"Alluvions\", \"918\": \"Alluvions\", \"920\": \"Alluvions\", \n",
    "    \"922\": \"Alluvions\", \"924\": \"Alluvions\", \"926\": \"Alluvions\", \"928\": \"Alluvions\", \n",
    "    \"930\": \"Alluvions\", \"932\": \"Alluvions\", \"935\": \"Alluvions\", \"936\": \"Alluvions\", \n",
    "    \"937\": \"Alluvions\", \"938\": \"Alluvions\", \"940\": \"Alluvions\", \"942\": \"Alluvions\", \n",
    "    \"944\": \"Alluvions\", \"946\": \"Alluvions\", \"948\": \"Alluvions\", \"949\": \"Alluvions\", \n",
    "    \"950\": \"Alluvions\", \"952\": \"Alluvions\", \"954\": \"Alluvions\", \"971\": \"Volcanic\", \n",
    "    \"972\": \"Volcanic\", \"974\": \"Volcanic\", \"976\": \"Volcanic\"\n",
    "}"
   ]
  },
  {
   "cell_type": "code",
   "execution_count": 12,
   "metadata": {},
   "outputs": [],
   "source": [
    "def map_code_to_category(code):\n",
    "    prefix = str(code)[:3]\n",
    "    return eh_code_prefix_to_category.get(prefix, \"Other\")"
   ]
  },
  {
   "cell_type": "code",
   "execution_count": 13,
   "metadata": {},
   "outputs": [],
   "source": [
    "def map_codes_in_list(codes_list):\n",
    "    return [map_code_to_category(code) for code in codes_list]"
   ]
  },
  {
   "cell_type": "code",
   "execution_count": 14,
   "metadata": {},
   "outputs": [],
   "source": [
    "def safe_eval(value):\n",
    "    if isinstance(value, str):\n",
    "        try:\n",
    "            return ast.literal_eval(value)\n",
    "        except (ValueError, SyntaxError):\n",
    "            return []\n",
    "    else:\n",
    "        return []"
   ]
  },
  {
   "cell_type": "code",
   "execution_count": 15,
   "metadata": {},
   "outputs": [],
   "source": [
    "x_y_train[\"mapped_category\"] = x_y_train[\"piezo_station_bdlisa_codes\"].apply(lambda x: map_codes_in_list(safe_eval(x)))"
   ]
  },
  {
   "cell_type": "code",
   "execution_count": 16,
   "metadata": {},
   "outputs": [],
   "source": [
    "mlb = MultiLabelBinarizer()\n",
    "x_y_train[mlb.classes_] = mlb.fit_transform(x_y_train[\"mapped_category\"])"
   ]
  },
  {
   "cell_type": "code",
   "execution_count": 17,
   "metadata": {},
   "outputs": [],
   "source": [
    "x_y_train = x_y_train.drop(columns=[\"piezo_station_bdlisa_codes\", \"mapped_category\"])"
   ]
  },
  {
   "cell_type": "markdown",
   "metadata": {},
   "source": [
    "## Piezo status and measure:"
   ]
  },
  {
   "cell_type": "code",
   "execution_count": 18,
   "metadata": {},
   "outputs": [],
   "source": [
    "piezo_status_to_id = {\n",
    "    \"Donnée brute\": 0,\n",
    "    \"Donnée contrôlée niveau 1\": 1,\n",
    "    \"Donnée contrôlée niveau 2\": 2,\n",
    "    \"Donnée interprétée\": 3\n",
    "}"
   ]
  },
  {
   "cell_type": "code",
   "execution_count": 19,
   "metadata": {},
   "outputs": [],
   "source": [
    "piezo_measure_nature_name_to_id = {\n",
    "    \"Inconnue\": np.nan,\n",
    "    \"Naturel\": 1,\n",
    "    \"Influencé\": 2,\n",
    "    \"Dynamique\": 3,\n",
    "    \"Sec\": 4\n",
    "}"
   ]
  },
  {
   "cell_type": "code",
   "execution_count": 20,
   "metadata": {},
   "outputs": [],
   "source": [
    "x_y_train[\"piezo_status\"] = x_y_train[\"piezo_status\"].map(piezo_status_to_id)\n",
    "x_y_train[\"piezo_measure_nature_name\"] = x_y_train[\"piezo_measure_nature_name\"].map(piezo_measure_nature_name_to_id)"
   ]
  },
  {
   "attachments": {},
   "cell_type": "markdown",
   "metadata": {},
   "source": [
    "## Distance computation:"
   ]
  },
  {
   "cell_type": "code",
   "execution_count": 21,
   "metadata": {},
   "outputs": [],
   "source": [
    "prelev_columns = [col for col in x_y_train.columns if col.startswith(\"prelev_\")]\n",
    "prelev = x_y_train[prelev_columns]"
   ]
  },
  {
   "cell_type": "code",
   "execution_count": 22,
   "metadata": {},
   "outputs": [],
   "source": [
    "numeric_columns = prelev.dtypes[((prelev.dtypes==\"float64\")) | ((prelev.dtypes==\"int64\"))].index.values.tolist()"
   ]
  },
  {
   "cell_type": "code",
   "execution_count": 23,
   "metadata": {},
   "outputs": [
    {
     "name": "stderr",
     "output_type": "stream",
     "text": [
      "C:\\Users\\alexa\\AppData\\Local\\Temp\\ipykernel_17484\\1652206598.py:2: SettingWithCopyWarning: \n",
      "A value is trying to be set on a copy of a slice from a DataFrame.\n",
      "Try using .loc[row_indexer,col_indexer] = value instead\n",
      "\n",
      "See the caveats in the documentation: https://pandas.pydata.org/pandas-docs/stable/user_guide/indexing.html#returning-a-view-versus-a-copy\n",
      "  prelev_copy[\"prelev_usage_label_0\"] = prelev[\"prelev_usage_label_0\"].astype(\"category\")\n",
      "C:\\Users\\alexa\\AppData\\Local\\Temp\\ipykernel_17484\\1652206598.py:3: SettingWithCopyWarning: \n",
      "A value is trying to be set on a copy of a slice from a DataFrame.\n",
      "Try using .loc[row_indexer,col_indexer] = value instead\n",
      "\n",
      "See the caveats in the documentation: https://pandas.pydata.org/pandas-docs/stable/user_guide/indexing.html#returning-a-view-versus-a-copy\n",
      "  prelev_copy[\"prelev_usage_label_1\"] = prelev[\"prelev_usage_label_1\"].astype(\"category\")\n"
     ]
    }
   ],
   "source": [
    "prelev_copy = prelev[numeric_columns]\n",
    "prelev_copy[\"prelev_usage_label_0\"] = prelev[\"prelev_usage_label_0\"].astype(\"category\")\n",
    "prelev_copy[\"prelev_usage_label_1\"] = prelev[\"prelev_usage_label_1\"].astype(\"category\")\n",
    "prelev_copy[\"prelev_usage_label_2\"] = prelev[\"prelev_usage_label_2\"].astype(\"category\")\n",
    "prelev_copy[\"prelev_other_volume_sum\"] = prelev[\"prelev_other_volume_sum\"]\n",
    "\n",
    "prelev_copy[\"distance_0\"] = (x_y_train[\"piezo_station_longitude\"] - x_y_train[\"prelev_longitude_0\"])**2 + (x_y_train[\"piezo_station_latitude\"] - x_y_train[\"prelev_latitude_0\"])**2\n",
    "prelev_copy[\"distance_1\"] = (x_y_train[\"piezo_station_longitude\"] - x_y_train[\"prelev_longitude_1\"])**2 + (x_y_train[\"piezo_station_latitude\"] - x_y_train[\"prelev_latitude_1\"])**2\n",
    "prelev_copy[\"distance_2\"] = (x_y_train[\"piezo_station_longitude\"] - x_y_train[\"prelev_longitude_2\"])**2 + (x_y_train[\"piezo_station_latitude\"] - x_y_train[\"prelev_latitude_2\"])**2\n",
    "prelev_copy = prelev_copy.drop(columns=[\"prelev_longitude_0\", \"prelev_longitude_1\", \"prelev_longitude_2\", \"prelev_latitude_0\", \"prelev_latitude_1\", \"prelev_latitude_2\"])\n",
    "\n",
    "prelev_copy[\"prelev_all_volume_sum\"] = x_y_train[\"prelev_volume_0\"] + x_y_train[\"prelev_volume_1\"] + x_y_train[\"prelev_volume_2\"] + x_y_train[\"prelev_other_volume_sum\"]"
   ]
  },
  {
   "cell_type": "code",
   "execution_count": 24,
   "metadata": {},
   "outputs": [],
   "source": [
    "x_y_train = x_y_train.drop(columns=prelev_columns)\n",
    "\n",
    "prelev_columns = [col for col in prelev_copy.columns]\n",
    "\n",
    "x_y_train[prelev_columns] = prelev_copy[prelev_columns]"
   ]
  },
  {
   "attachments": {},
   "cell_type": "markdown",
   "metadata": {},
   "source": [
    "## Insee columns:"
   ]
  },
  {
   "cell_type": "code",
   "execution_count": 25,
   "metadata": {},
   "outputs": [],
   "source": [
    "insee_columns = [\n",
    "    \"insee_%_agri\",\n",
    "    \"insee_med_living_level\",\n",
    "    \"insee_%_ind\",\n",
    "    \"insee_%_const\"\n",
    "]"
   ]
  },
  {
   "cell_type": "code",
   "execution_count": 26,
   "metadata": {},
   "outputs": [],
   "source": [
    "x_y_train[insee_columns] = x_y_train[insee_columns].apply(pd.to_numeric, errors=\"coerce\")"
   ]
  },
  {
   "cell_type": "markdown",
   "metadata": {},
   "source": [
    "## Deviation data:"
   ]
  },
  {
   "cell_type": "code",
   "execution_count": 27,
   "metadata": {},
   "outputs": [],
   "source": [
    "deviation_data = {\n",
    "    2020: {\"temperature\": 1.15, \"precipitation\": 0.97},\n",
    "    2021: {\"temperature\": -0.01, \"precipitation\": 0.99},\n",
    "    2022: {\"temperature\": 1.6, \"precipitation\": 0.76},\n",
    "    2023: {\"temperature\": 1.4, \"precipitation\": 1.035},\n",
    "}"
   ]
  },
  {
   "cell_type": "code",
   "execution_count": 28,
   "metadata": {},
   "outputs": [],
   "source": [
    "x_y_train[\"mean_annual_temperature_deviation\"] = x_y_train[\"year\"].map(\n",
    "    lambda year: deviation_data[year][\"temperature\"] if year in deviation_data else None\n",
    ")\n",
    "x_y_train[\"mean_annual_precipitation_deviation\"] = x_y_train[\"year\"].map(\n",
    "    lambda year: deviation_data[year][\"precipitation\"] if year in deviation_data else None\n",
    ")"
   ]
  },
  {
   "cell_type": "markdown",
   "metadata": {},
   "source": [
    "# Preprocess test"
   ]
  },
  {
   "cell_type": "markdown",
   "metadata": {},
   "source": [
    "## Piezo qualification:"
   ]
  },
  {
   "cell_type": "code",
   "execution_count": 29,
   "metadata": {},
   "outputs": [
    {
     "data": {
      "text/plain": [
       "piezo_qualification\n",
       "Correcte        578616\n",
       "Non qualifié     26930\n",
       "Incertaine        3025\n",
       "Incorrecte        2637\n",
       "Name: count, dtype: int64"
      ]
     },
     "execution_count": 29,
     "metadata": {},
     "output_type": "execute_result"
    }
   ],
   "source": [
    "x_test[\"piezo_qualification\"].value_counts()"
   ]
  },
  {
   "cell_type": "code",
   "execution_count": 30,
   "metadata": {},
   "outputs": [],
   "source": [
    "x_test = x_test.drop(columns=[\"piezo_qualification\"])"
   ]
  },
  {
   "cell_type": "markdown",
   "metadata": {},
   "source": [
    "## Irrelevant columns:"
   ]
  },
  {
   "cell_type": "code",
   "execution_count": 31,
   "metadata": {},
   "outputs": [],
   "source": [
    "columns_to_drop = [\n",
    "    \"piezo_station_department_code\",\n",
    "    \"piezo_station_update_date\",\n",
    "    \"piezo_station_department_name\",\n",
    "    \"piezo_station_commune_code_insee\",\n",
    "    \"piezo_station_pe_label\",\n",
    "    \"piezo_station_bss_code\",\n",
    "    \"piezo_station_commune_name\",\n",
    "    \"piezo_station_bss_id\",\n",
    "    \"piezo_bss_code\",\n",
    "    \"piezo_obtention_mode\",\n",
    "    \"piezo_continuity_code\",\n",
    "    \"piezo_continuity_name\",\n",
    "    \"piezo_producer_code\",\n",
    "    \"piezo_producer_name\",\n",
    "    \"piezo_measure_nature_code\",\n",
    "    \"meteo_id\",\n",
    "    \"meteo_name\",\n",
    "    \"meteo_date\",\n",
    "    \"meteo_DRR\",\n",
    "    \"meteo_temperature_avg_threshold\",\n",
    "    \"meteo_temperature_min_50cm\",\n",
    "    \"meteo_pressure_avg\",\n",
    "    \"meteo_pression_maxi\",\n",
    "    \"meteo_wind_speed_avg_2m\",\n",
    "    \"meteo_wind_max_2m\",\n",
    "    \"meteo_wind_direction_max_inst_2m\",\n",
    "    \"meteo_time_wind_max_2m\",\n",
    "    \"meteo_wetting_duration\",\n",
    "    \"meteo_sunshine_duration\",\n",
    "    \"meteo_longitude\",\n",
    "    \"meteo_latitude\",\n",
    "    \"meteo_radiation\",\n",
    "    \"meteo_radiation_direct\",\n",
    "    \"meteo_sunshine_%\",\n",
    "    \"meteo_radiation_IR\",\n",
    "    \"meteo_radiation_UV_max\",\n",
    "    \"meteo_cloudiness\",\n",
    "    \"meteo_cloudiness_height\",\n",
    "    \"meteo_if_snow\",\n",
    "    \"meteo_if_fog\",\n",
    "    \"meteo_if_thunderstorm\",\n",
    "    \"meteo_if_sleet\",\n",
    "    \"meteo_if_hail\",\n",
    "    \"meteo_if_dew\",\n",
    "    \"meteo_if_black_ice\",\n",
    "    \"meteo_if_snow_ground\",\n",
    "    \"meteo_if_frost\",\n",
    "    \"meteo_if_smoke\",\n",
    "    \"meteo_if_mist\",\n",
    "    \"meteo_if_lightning\",\n",
    "    \"meteo_evapotranspiration_Monteith\",\n",
    "    \"meteo_radiation_UV\",\n",
    "    \"meteo_snow_height\",\n",
    "    \"meteo_snow_thickness_max\",\n",
    "    \"meteo_snow_thickness_6h\",\n",
    "    \"hydro_station_code\",\n",
    "    \"hydro_observation_date_elab\",\n",
    "    \"hydro_status_label\",\n",
    "    \"hydro_method_label\",\n",
    "    \"hydro_qualification_label\",\n",
    "    \"hydro_longitude\",\n",
    "    \"hydro_latitude\",\n",
    "    \"hydro_hydro_quantity_elab\",\n",
    "    \"prelev_structure_code_0\",\n",
    "    \"prelev_volume_obtention_mode_label_0\",\n",
    "    \"prelev_commune_code_insee_0\",\n",
    "    \"prelev_structure_code_1\",\n",
    "    \"prelev_volume_obtention_mode_label_1\",\n",
    "    \"prelev_commune_code_insee_1\",\n",
    "    \"prelev_structure_code_2\",\n",
    "    \"prelev_volume_obtention_mode_label_2\",\n",
    "    \"prelev_commune_code_insee_2\"\n",
    "]"
   ]
  },
  {
   "cell_type": "code",
   "execution_count": 32,
   "metadata": {},
   "outputs": [],
   "source": [
    "x_test = x_test.drop(columns=columns_to_drop)"
   ]
  },
  {
   "cell_type": "markdown",
   "metadata": {},
   "source": [
    "## Date:"
   ]
  },
  {
   "cell_type": "markdown",
   "metadata": {},
   "source": [
    "For the date, we apply cyclical encoding:"
   ]
  },
  {
   "cell_type": "code",
   "execution_count": 33,
   "metadata": {},
   "outputs": [
    {
     "data": {
      "text/plain": [
       "row_index\n",
       "2331795    2022-06-01\n",
       "2331796    2022-06-01\n",
       "2331797    2022-06-01\n",
       "2331798    2022-06-01\n",
       "2331799    2022-06-01\n",
       "              ...    \n",
       "3610818    2023-09-30\n",
       "3610819    2023-09-30\n",
       "3610820    2023-09-30\n",
       "3610821    2023-09-30\n",
       "3610822    2023-09-30\n",
       "Name: piezo_measurement_date, Length: 611208, dtype: object"
      ]
     },
     "execution_count": 33,
     "metadata": {},
     "output_type": "execute_result"
    }
   ],
   "source": [
    "x_test[\"piezo_measurement_date\"]"
   ]
  },
  {
   "cell_type": "code",
   "execution_count": 34,
   "metadata": {},
   "outputs": [],
   "source": [
    "x_test[\"piezo_measurement_date\"] = pd.to_datetime(x_test[\"piezo_measurement_date\"])\n",
    "x_test[\"day_of_year\"] = x_test[\"piezo_measurement_date\"].dt.dayofyear\n",
    "x_test[\"day_sin\"] = np.sin(2 * np.pi * x_test[\"day_of_year\"] / 365)\n",
    "x_test[\"day_cos\"] = np.cos(2 * np.pi * x_test[\"day_of_year\"] / 365)\n",
    "x_test[\"month\"] = x_test[\"piezo_measurement_date\"].dt.month\n",
    "x_test[\"year\"] = x_test[\"piezo_measurement_date\"].dt.year"
   ]
  },
  {
   "cell_type": "code",
   "execution_count": 35,
   "metadata": {},
   "outputs": [],
   "source": [
    "x_test = x_test[x_test[\"piezo_measurement_date\"].dt.month.between(3, 10)]"
   ]
  },
  {
   "cell_type": "code",
   "execution_count": 36,
   "metadata": {},
   "outputs": [],
   "source": [
    "x_test = x_test.drop(columns=[\"piezo_measurement_date\", \"day_of_year\"])"
   ]
  },
  {
   "cell_type": "markdown",
   "metadata": {},
   "source": [
    "## BDLISA code:"
   ]
  },
  {
   "cell_type": "code",
   "execution_count": 37,
   "metadata": {},
   "outputs": [],
   "source": [
    "eh_code_prefix_to_category = {\n",
    "    \"101\": \"Sands\", \"104\": \"Sands\", \"107\": \"Limestones\", \"110\": \"Marls\", \n",
    "    \"113\": \"Limestones\", \"117\": \"Other\", \"119\": \"Other\", \"121\": \"Other\", \n",
    "    \"123\": \"Marls\", \"125\": \"Marls\", \"127\": \"Sands\", \"131\": \"Limestones\", \n",
    "    \"133\": \"Marls\", \"135\": \"Limestones\", \"137\": \"Marls\", \"139\": \"Limestones\", \n",
    "    \"141\": \"Marls\", \"143\": \"Gravel\", \"144\": \"Sands\", \"145\": \"Other\", \n",
    "    \"147\": \"Gravel\", \"149\": \"Limestones\", \"151\": \"Massif\", \"153\": \"Massif\", \n",
    "    \"154\": \"Massif\", \"155\": \"Massif\", \"156\": \"Massif\", \"158\": \"Massif\", \n",
    "    \"159\": \"Massif\", \"160\": \"Massif\", \"161\": \"Sands\", \"163\": \"Massif\", \n",
    "    \"164\": \"Other\", \"165\": \"Other\", \"167\": \"Other\", \"169\": \"Massif\", \n",
    "    \"170\": \"Massif\", \"171\": \"Massif\", \"173\": \"Other\", \"174\": \"Basement\", \n",
    "    \"175\": \"Basement\", \"177\": \"Basement\", \"179\": \"Basement\", \"181\": \"Basement\", \n",
    "    \"183\": \"Basement\", \"185\": \"Basement\", \"186\": \"Basement\", \"187\": \"Basement\", \n",
    "    \"189\": \"Other\", \"191\": \"Other\", \"193\": \"Other\", \"195\": \"Other\", \n",
    "    \"197\": \"Other\", \"199\": \"Other\", \"201\": \"Basement\", \"203\": \"Basement\", \n",
    "    \"205\": \"Basement\", \"206\": \"Basement\", \"207\": \"Basement\", \"208\": \"Basement\", \n",
    "    \"211\": \"Other\", \"221\": \"Alluvions\", \"222\": \"Alluvions\", \"223\": \"Other\", \n",
    "    \"225\": \"Paleogeological Epochs\", \"226\": \"Gravel\", \"227\": \"Marls\", \n",
    "    \"230\": \"Gravel\", \"231\": \"Basement\", \"233\": \"Volcanic\", \"306\": \"Gravel\", \n",
    "    \"308\": \"Sands\", \"312\": \"Sands\", \"316\": \"Sands\", \"318\": \"Paleogeological Epochs\", \n",
    "    \"320\": \"Limestones\", \"322\": \"Paleogeological Epochs\", \"324\": \"Limestones\", \n",
    "    \"326\": \"Marls\", \"328\": \"Marls\", \"330\": \"Marls\", \"332\": \"Massif\", \n",
    "    \"334\": \"Gravel\", \"338\": \"Other\", \"340\": \"Marls\", \"342\": \"Other\", \n",
    "    \"344\": \"Limestones\", \"346\": \"Marls\", \"348\": \"Limestones\", \"350\": \"Gravel\", \n",
    "    \"352\": \"Limestones\", \"356\": \"Marls\", \"358\": \"Limestones\", \"359\": \"Limestones\", \n",
    "    \"360\": \"Marls\", \"362\": \"Limestones\", \"364\": \"Geological Epochs\", \"366\": \"Gravel\", \n",
    "    \"368\": \"Gravel\", \"370\": \"Basement\", \"372\": \"Basement\", \"374\": \"Basement\", \n",
    "    \"400\": \"Limestones\", \"402\": \"Limestones\", \"404\": \"Massif\", \"502\": \"Other\", \n",
    "    \"505\": \"Other\", \"507\": \"Other\", \"509\": \"Paleogeological Epochs\", \"513\": \"Limestones\", \n",
    "    \"515\": \"Limestones\", \"516\": \"Other\", \"517\": \"Limestones\", \"519\": \"Marls\", \n",
    "    \"521\": \"Other\", \"523\": \"Limestones\", \"525\": \"Other\", \"527\": \"Basement\", \n",
    "    \"529\": \"Paleogeological Epochs\", \"531\": \"Limestones\", \"533\": \"Limestones\", \n",
    "    \"534\": \"Limestones\", \"548\": \"Marls\", \"561\": \"Other\", \"563\": \"Other\", \n",
    "    \"565\": \"Limestones\", \"567\": \"Massif\", \"569\": \"Limestones\", \"571\": \"Limestones\", \n",
    "    \"573\": \"Geological Epochs\", \"577\": \"Marls\", \"581\": \"Massif\", \"583\": \"Marls\", \n",
    "    \"585\": \"Marls\", \"600\": \"Paleogeological Epochs\", \"602\": \"Basement\", \n",
    "    \"604\": \"Basement\", \"621\": \"Limestones\", \"631\": \"Limestones\", \"643\": \"Marls\", \n",
    "    \"647\": \"Alluvions\", \"651\": \"Limestones\", \"657\": \"Other\", \"671\": \"Alluvions\", \n",
    "    \"679\": \"Marls\", \"681\": \"Marls\", \"691\": \"Basement\", \"693\": \"Basement\", \n",
    "    \"699\": \"Basement\", \"710\": \"Alluvions\", \"712\": \"Alluvions\", \"714\": \"Alluvions\", \n",
    "    \"716\": \"Alluvions\", \"718\": \"Alluvions\", \"719\": \"Alluvions\", \"720\": \"Alluvions\", \n",
    "    \"901\": \"Basement\", \"902\": \"Sands\", \"910\": \"Alluvions\", \"912\": \"Alluvions\", \n",
    "    \"914\": \"Alluvions\", \"916\": \"Alluvions\", \"918\": \"Alluvions\", \"920\": \"Alluvions\", \n",
    "    \"922\": \"Alluvions\", \"924\": \"Alluvions\", \"926\": \"Alluvions\", \"928\": \"Alluvions\", \n",
    "    \"930\": \"Alluvions\", \"932\": \"Alluvions\", \"935\": \"Alluvions\", \"936\": \"Alluvions\", \n",
    "    \"937\": \"Alluvions\", \"938\": \"Alluvions\", \"940\": \"Alluvions\", \"942\": \"Alluvions\", \n",
    "    \"944\": \"Alluvions\", \"946\": \"Alluvions\", \"948\": \"Alluvions\", \"949\": \"Alluvions\", \n",
    "    \"950\": \"Alluvions\", \"952\": \"Alluvions\", \"954\": \"Alluvions\", \"971\": \"Volcanic\", \n",
    "    \"972\": \"Volcanic\", \"974\": \"Volcanic\", \"976\": \"Volcanic\"\n",
    "}"
   ]
  },
  {
   "cell_type": "code",
   "execution_count": 38,
   "metadata": {},
   "outputs": [],
   "source": [
    "def map_code_to_category(code):\n",
    "    prefix = str(code)[:3]\n",
    "    return eh_code_prefix_to_category.get(prefix, \"Other\")"
   ]
  },
  {
   "cell_type": "code",
   "execution_count": 39,
   "metadata": {},
   "outputs": [],
   "source": [
    "def map_codes_in_list(codes_list):\n",
    "    return [map_code_to_category(code) for code in codes_list]"
   ]
  },
  {
   "cell_type": "code",
   "execution_count": 40,
   "metadata": {},
   "outputs": [],
   "source": [
    "def safe_eval(value):\n",
    "    if isinstance(value, str):\n",
    "        try:\n",
    "            return ast.literal_eval(value)\n",
    "        except (ValueError, SyntaxError):\n",
    "            return []\n",
    "    else:\n",
    "        return []"
   ]
  },
  {
   "cell_type": "code",
   "execution_count": 41,
   "metadata": {},
   "outputs": [],
   "source": [
    "x_test[\"mapped_category\"] = x_test[\"piezo_station_bdlisa_codes\"].apply(lambda x: map_codes_in_list(safe_eval(x)))"
   ]
  },
  {
   "cell_type": "code",
   "execution_count": 42,
   "metadata": {},
   "outputs": [],
   "source": [
    "mlb = MultiLabelBinarizer()\n",
    "x_test[mlb.classes_] = mlb.fit_transform(x_test[\"mapped_category\"])"
   ]
  },
  {
   "cell_type": "code",
   "execution_count": 43,
   "metadata": {},
   "outputs": [],
   "source": [
    "x_test = x_test.drop(columns=[\"piezo_station_bdlisa_codes\", \"mapped_category\"])"
   ]
  },
  {
   "cell_type": "markdown",
   "metadata": {},
   "source": [
    "## Piezo status and measure:"
   ]
  },
  {
   "cell_type": "code",
   "execution_count": 44,
   "metadata": {},
   "outputs": [],
   "source": [
    "piezo_status_to_id = {\n",
    "    \"Donnée brute\": 0,\n",
    "    \"Donnée contrôlée niveau 1\": 1,\n",
    "    \"Donnée contrôlée niveau 2\": 2,\n",
    "    \"Donnée interprétée\": 3\n",
    "}"
   ]
  },
  {
   "cell_type": "code",
   "execution_count": 45,
   "metadata": {},
   "outputs": [],
   "source": [
    "piezo_measure_nature_name_to_id = {\n",
    "    \"Inconnue\": np.nan,\n",
    "    \"Naturel\": 1,\n",
    "    \"Influencé\": 2,\n",
    "    \"Dynamique\": 3,\n",
    "    \"Sec\": 4\n",
    "}"
   ]
  },
  {
   "cell_type": "code",
   "execution_count": 46,
   "metadata": {},
   "outputs": [],
   "source": [
    "x_test[\"piezo_status\"] = x_test[\"piezo_status\"].map(piezo_status_to_id)\n",
    "x_test[\"piezo_measure_nature_name\"] = x_test[\"piezo_measure_nature_name\"].map(piezo_measure_nature_name_to_id)"
   ]
  },
  {
   "cell_type": "markdown",
   "metadata": {},
   "source": [
    "## Distance computation:"
   ]
  },
  {
   "cell_type": "code",
   "execution_count": 47,
   "metadata": {},
   "outputs": [],
   "source": [
    "prelev_columns = [col for col in x_test.columns if col.startswith(\"prelev_\")]\n",
    "prelev = x_test[prelev_columns]"
   ]
  },
  {
   "cell_type": "code",
   "execution_count": 48,
   "metadata": {},
   "outputs": [],
   "source": [
    "numeric_columns = prelev.dtypes[((prelev.dtypes==\"float64\")) | ((prelev.dtypes==\"int64\"))].index.values.tolist()"
   ]
  },
  {
   "cell_type": "code",
   "execution_count": 49,
   "metadata": {},
   "outputs": [
    {
     "name": "stderr",
     "output_type": "stream",
     "text": [
      "C:\\Users\\alexa\\AppData\\Local\\Temp\\ipykernel_17484\\2781368820.py:2: SettingWithCopyWarning: \n",
      "A value is trying to be set on a copy of a slice from a DataFrame.\n",
      "Try using .loc[row_indexer,col_indexer] = value instead\n",
      "\n",
      "See the caveats in the documentation: https://pandas.pydata.org/pandas-docs/stable/user_guide/indexing.html#returning-a-view-versus-a-copy\n",
      "  prelev_copy[\"prelev_usage_label_0\"] = prelev[\"prelev_usage_label_0\"].astype(\"category\")\n",
      "C:\\Users\\alexa\\AppData\\Local\\Temp\\ipykernel_17484\\2781368820.py:3: SettingWithCopyWarning: \n",
      "A value is trying to be set on a copy of a slice from a DataFrame.\n",
      "Try using .loc[row_indexer,col_indexer] = value instead\n",
      "\n",
      "See the caveats in the documentation: https://pandas.pydata.org/pandas-docs/stable/user_guide/indexing.html#returning-a-view-versus-a-copy\n",
      "  prelev_copy[\"prelev_usage_label_1\"] = prelev[\"prelev_usage_label_1\"].astype(\"category\")\n"
     ]
    }
   ],
   "source": [
    "prelev_copy = prelev[numeric_columns]\n",
    "prelev_copy[\"prelev_usage_label_0\"] = prelev[\"prelev_usage_label_0\"].astype(\"category\")\n",
    "prelev_copy[\"prelev_usage_label_1\"] = prelev[\"prelev_usage_label_1\"].astype(\"category\")\n",
    "prelev_copy[\"prelev_usage_label_2\"] = prelev[\"prelev_usage_label_2\"].astype(\"category\")\n",
    "prelev_copy[\"prelev_other_volume_sum\"] = prelev[\"prelev_other_volume_sum\"]\n",
    "\n",
    "prelev_copy[\"distance_0\"] = (x_test[\"piezo_station_longitude\"] - x_test[\"prelev_longitude_0\"])**2 + (x_test[\"piezo_station_latitude\"] - x_test[\"prelev_latitude_0\"])**2\n",
    "prelev_copy[\"distance_1\"] = (x_test[\"piezo_station_longitude\"] - x_test[\"prelev_longitude_1\"])**2 + (x_test[\"piezo_station_latitude\"] - x_test[\"prelev_latitude_1\"])**2\n",
    "prelev_copy[\"distance_2\"] = (x_test[\"piezo_station_longitude\"] - x_test[\"prelev_longitude_2\"])**2 + (x_test[\"piezo_station_latitude\"] - x_test[\"prelev_latitude_2\"])**2\n",
    "prelev_copy = prelev_copy.drop(columns=[\"prelev_longitude_0\", \"prelev_longitude_1\", \"prelev_longitude_2\", \"prelev_latitude_0\", \"prelev_latitude_1\", \"prelev_latitude_2\"])\n",
    "\n",
    "prelev_copy[\"prelev_all_volume_sum\"] = x_test[\"prelev_volume_0\"] + x_test[\"prelev_volume_1\"] + x_test[\"prelev_volume_2\"] + x_test[\"prelev_other_volume_sum\"]"
   ]
  },
  {
   "cell_type": "code",
   "execution_count": 50,
   "metadata": {},
   "outputs": [],
   "source": [
    "x_test = x_test.drop(columns=prelev_columns)\n",
    "\n",
    "prelev_columns = [col for col in prelev_copy.columns]\n",
    "\n",
    "x_test[prelev_columns] = prelev_copy[prelev_columns]"
   ]
  },
  {
   "cell_type": "markdown",
   "metadata": {},
   "source": [
    "## Insee columns:"
   ]
  },
  {
   "cell_type": "code",
   "execution_count": 51,
   "metadata": {},
   "outputs": [],
   "source": [
    "insee_columns = [\n",
    "    \"insee_%_agri\",\n",
    "    \"insee_med_living_level\",\n",
    "    \"insee_%_ind\",\n",
    "    \"insee_%_const\"\n",
    "]"
   ]
  },
  {
   "cell_type": "code",
   "execution_count": 52,
   "metadata": {},
   "outputs": [],
   "source": [
    "x_test[insee_columns] = x_test[insee_columns].apply(pd.to_numeric, errors=\"coerce\")"
   ]
  },
  {
   "cell_type": "markdown",
   "metadata": {},
   "source": [
    "## Deviation data:"
   ]
  },
  {
   "cell_type": "code",
   "execution_count": 53,
   "metadata": {},
   "outputs": [],
   "source": [
    "deviation_data = {\n",
    "    2020: {\"temperature\": 1.15, \"precipitation\": 0.97},\n",
    "    2021: {\"temperature\": -0.01, \"precipitation\": 0.99},\n",
    "    2022: {\"temperature\": 1.6, \"precipitation\": 0.76},\n",
    "    2023: {\"temperature\": 1.4, \"precipitation\": 1.035},\n",
    "}"
   ]
  },
  {
   "cell_type": "code",
   "execution_count": 54,
   "metadata": {},
   "outputs": [],
   "source": [
    "x_test[\"mean_annual_temperature_deviation\"] = x_test[\"year\"].map(\n",
    "    lambda year: deviation_data[year][\"temperature\"] if year in deviation_data else None\n",
    ")\n",
    "x_test[\"mean_annual_precipitation_deviation\"] = x_test[\"year\"].map(\n",
    "    lambda year: deviation_data[year][\"precipitation\"] if year in deviation_data else None\n",
    ")"
   ]
  },
  {
   "attachments": {},
   "cell_type": "markdown",
   "metadata": {},
   "source": [
    "# Split data"
   ]
  },
  {
   "cell_type": "code",
   "execution_count": 55,
   "metadata": {},
   "outputs": [
    {
     "data": {
      "text/plain": [
       "(1761874, 74)"
      ]
     },
     "execution_count": 55,
     "metadata": {},
     "output_type": "execute_result"
    }
   ],
   "source": [
    "x_y_train.shape"
   ]
  },
  {
   "cell_type": "code",
   "execution_count": 56,
   "metadata": {},
   "outputs": [
    {
     "data": {
      "text/plain": [
       "(611208, 73)"
      ]
     },
     "execution_count": 56,
     "metadata": {},
     "output_type": "execute_result"
    }
   ],
   "source": [
    "x_test.shape"
   ]
  },
  {
   "cell_type": "code",
   "execution_count": 57,
   "metadata": {},
   "outputs": [],
   "source": [
    "y_train = x_y_train[\"piezo_groundwater_level_category\"]\n",
    "\n",
    "x_train = x_y_train.drop(columns=[\"piezo_groundwater_level_category\"])"
   ]
  },
  {
   "cell_type": "code",
   "execution_count": 58,
   "metadata": {},
   "outputs": [],
   "source": [
    "groundwater_cat_to_id = {\n",
    "    \"Very High\": 4,\n",
    "    \"High\": 3,\n",
    "    \"Average\": 2,\n",
    "    \"Low\": 1,\n",
    "    \"Very Low\": 0\n",
    "}\n",
    "\n",
    "y_train = y_train.map(groundwater_cat_to_id)"
   ]
  },
  {
   "cell_type": "code",
   "execution_count": 59,
   "metadata": {},
   "outputs": [],
   "source": [
    "x_train, x_true, y_train, y_true = train_test_split(x_train, y_train, test_size=0.3, random_state=42, stratify=y_train)"
   ]
  },
  {
   "cell_type": "markdown",
   "metadata": {},
   "source": [
    "# Model"
   ]
  },
  {
   "cell_type": "code",
   "execution_count": 60,
   "metadata": {},
   "outputs": [
    {
     "name": "stdout",
     "output_type": "stream",
     "text": [
      "Accuracy: 0.8862\n",
      "F1-Score (Micro): 0.8862\n",
      "F1-Score (Macro): 0.8892\n",
      "F1-Score (Weighted): 0.8869\n"
     ]
    }
   ],
   "source": [
    "model = xgb.XGBRegressor(\n",
    "    objective=\"reg:squarederror\",\n",
    "    learning_rate=0.1,\n",
    "    max_depth=10,\n",
    "    n_estimators=700,\n",
    "    min_child_weight=1,\n",
    "    subsample=0.9,\n",
    "    colsample_bytree=0.9,\n",
    "    reg_alpha=2.0,\n",
    "    reg_lambda=1.0,\n",
    "    random_state=42,\n",
    "    enable_categorical=True\n",
    ")\n",
    "\n",
    "model.fit(x_train, y_train)\n",
    "\n",
    "y_pred = np.clip(np.round(model.predict(x_true)).astype(int), 0, 4)\n",
    "\n",
    "print(f\"Accuracy: {accuracy_score(y_pred=y_pred, y_true=y_true):.4f}\")\n",
    "print(f\"F1-Score (Micro): {f1_score(y_pred=y_pred, y_true=y_true, average=\"micro\"):.4f}\")\n",
    "print(f\"F1-Score (Macro): {f1_score(y_pred=y_pred, y_true=y_true, average=\"macro\"):.4f}\")\n",
    "print(f\"F1-Score (Weighted): {f1_score(y_pred=y_pred, y_true=y_true, average=\"weighted\"):.4f}\")"
   ]
  },
  {
   "cell_type": "code",
   "execution_count": 61,
   "metadata": {},
   "outputs": [],
   "source": [
    "y_pred = np.clip(np.round(model.predict(x_test)).astype(int), 0, 4)"
   ]
  },
  {
   "cell_type": "code",
   "execution_count": 62,
   "metadata": {},
   "outputs": [],
   "source": [
    "y_pred = pd.DataFrame({\n",
    "    \"row_index\": x_test.index,\n",
    "    \"piezo_groundwater_level_category\": y_pred\n",
    "})\n",
    "\n",
    "groundwater_id_to_cat = {\n",
    "    4: \"Very High\",\n",
    "    3: \"High\",\n",
    "    2: \"Average\",\n",
    "    1: \"Low\",\n",
    "    0: \"Very Low\"\n",
    "}\n",
    "\n",
    "y_pred[\"piezo_groundwater_level_category\"] = y_pred[\"piezo_groundwater_level_category\"].map(groundwater_id_to_cat)"
   ]
  },
  {
   "cell_type": "code",
   "execution_count": 63,
   "metadata": {},
   "outputs": [
    {
     "name": "stdout",
     "output_type": "stream",
     "text": [
      "Accuracy: 60.55%\n"
     ]
    }
   ],
   "source": [
    "y_test = pd.read_csv(\"y_test.csv\", low_memory=False)\n",
    "\n",
    "merged = pd.merge(y_pred, y_test, on=\"row_index\", suffixes=(\"_pred\", \"_test\"))\n",
    "\n",
    "accuracy = accuracy_score(merged[\"piezo_groundwater_level_category_pred\"], merged[\"piezo_groundwater_level_category_test\"]) * 100\n",
    "\n",
    "print(f\"Accuracy: {accuracy:.2f}%\")"
   ]
  }
 ],
 "metadata": {
  "kernelspec": {
   "display_name": "Python 3",
   "language": "python",
   "name": "python3"
  },
  "language_info": {
   "codemirror_mode": {
    "name": "ipython",
    "version": 3
   },
   "file_extension": ".py",
   "mimetype": "text/x-python",
   "name": "python",
   "nbconvert_exporter": "python",
   "pygments_lexer": "ipython3",
   "version": "3.12.9"
  },
  "orig_nbformat": 4
 },
 "nbformat": 4,
 "nbformat_minor": 2
}
